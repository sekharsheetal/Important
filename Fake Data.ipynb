{
 "cells": [
  {
   "cell_type": "markdown",
   "metadata": {},
   "source": [
    "Creating datasets using Faker package in python"
   ]
  },
  {
   "cell_type": "markdown",
   "metadata": {},
   "source": [
    "In the world of data science Fake data is sometimes needed.\n",
    "Testing on fake data is useful because then you know the right answer and can check how it would work in the real world situation. \n",
    "Fake data also enables you to test the robustness of the model when the conditions aren’t perfect – for example, if outliers are presend the model still works, it's a great way to know that your model is doing good. \n",
    "With fake data, one can generate as many samples as needed.\n",
    "Faker is a Python library that generates fake data. Faka data is often used for testing or filling databases with some dummy data and can be generated almost instantly"
   ]
  },
  {
   "cell_type": "markdown",
   "metadata": {},
   "source": [
    "Installing the package"
   ]
  },
  {
   "cell_type": "code",
   "execution_count": 1,
   "metadata": {},
   "outputs": [
    {
     "name": "stdout",
     "output_type": "stream",
     "text": [
      "Collecting Faker\n",
      "  Downloading https://files.pythonhosted.org/packages/2a/6f/2a868e12996ea630a4591aa967cb934e411d94e42da12e1dd141b66d0070/Faker-4.0.2-py3-none-any.whl (1.0MB)\n",
      "Collecting text-unidecode==1.3 (from Faker)\n",
      "  Downloading https://files.pythonhosted.org/packages/a6/a5/c0b6468d3824fe3fde30dbb5e1f687b291608f9473681bbf7dabbf5a87d7/text_unidecode-1.3-py2.py3-none-any.whl (78kB)\n",
      "Requirement already satisfied: python-dateutil>=2.4 in c:\\users\\sheetal sekhar\\anaconda3\\lib\\site-packages (from Faker) (2.8.0)\n",
      "Requirement already satisfied: six>=1.5 in c:\\users\\sheetal sekhar\\anaconda3\\lib\\site-packages (from python-dateutil>=2.4->Faker) (1.12.0)\n",
      "Installing collected packages: text-unidecode, Faker\n",
      "Successfully installed Faker-4.0.2 text-unidecode-1.3\n"
     ]
    }
   ],
   "source": [
    "!pip install Faker "
   ]
  },
  {
   "cell_type": "code",
   "execution_count": 2,
   "metadata": {},
   "outputs": [],
   "source": [
    "from faker import Faker\n"
   ]
  },
  {
   "cell_type": "code",
   "execution_count": 7,
   "metadata": {},
   "outputs": [],
   "source": [
    "# Create fake data using Faker\n",
    "fake_data = Faker()"
   ]
  },
  {
   "cell_type": "code",
   "execution_count": 11,
   "metadata": {},
   "outputs": [],
   "source": [
    "# Creating a list of 50 fake names\n",
    "def create_names(n):\n",
    "    name = []\n",
    "    for _ in range(0, n):\n",
    "        name.append(fake_data.name())\n",
    "    return name"
   ]
  },
  {
   "cell_type": "code",
   "execution_count": 9,
   "metadata": {},
   "outputs": [],
   "source": [
    "name = create_names(50)"
   ]
  },
  {
   "cell_type": "code",
   "execution_count": 10,
   "metadata": {},
   "outputs": [
    {
     "name": "stdout",
     "output_type": "stream",
     "text": [
      "['Patricia Noble', 'Daniel Hoffman', 'Paula Weber', 'Kim Hayden', 'Samantha Patterson', 'Lisa Rodriguez MD', 'Nathan Logan', 'Lauren Olson', 'David Medina', 'Megan Smith', 'Andrew Peterson', 'Michael Richardson', 'Holly Green', 'Brittany Lewis', 'Dustin Morales', 'Joshua Jordan', 'Claire West', 'Kimberly Pineda', 'Denise Burke', 'Bridget Davis', 'Andrew Walker', 'Casey Morrison', 'Heather Valencia', 'Brenda Cook', 'Tammy Warner', 'Melissa Andrews', 'Traci Ibarra', 'Kathy Morrison', 'April Bush', 'Kenneth Holloway', 'Richard Mitchell', 'Monica Fitzpatrick MD', 'Darren Hall', 'Charles Stanley', 'Jenna Hernandez', 'Summer Beltran', 'Debbie Clark', 'Kevin Wilson', 'Eric Hogan', 'Kendra Smith', 'Denise Hernandez', 'Tammie Brown', 'Tammy Hayes', 'Jacob Henson', 'David Armstrong', 'Meghan Campbell', 'James Harris', 'Kelly Schneider', 'Lynn Deleon', 'Elizabeth Robertson']\n"
     ]
    }
   ],
   "source": [
    "print(name)"
   ]
  },
  {
   "cell_type": "markdown",
   "metadata": {},
   "source": [
    "Below are some examples of the Faker methods and some expmples illustrating the kind of fake date"
   ]
  },
  {
   "cell_type": "code",
   "execution_count": 17,
   "metadata": {},
   "outputs": [],
   "source": [
    "address=fake_data.address()"
   ]
  },
  {
   "cell_type": "code",
   "execution_count": 18,
   "metadata": {},
   "outputs": [
    {
     "name": "stdout",
     "output_type": "stream",
     "text": [
      "804 Jackson Groves Suite 615\n",
      "Port Michellechester, TN 48959\n"
     ]
    }
   ],
   "source": [
    "print(address)"
   ]
  },
  {
   "cell_type": "code",
   "execution_count": 22,
   "metadata": {},
   "outputs": [],
   "source": [
    "email=fake_data.email()"
   ]
  },
  {
   "cell_type": "code",
   "execution_count": 23,
   "metadata": {},
   "outputs": [
    {
     "name": "stdout",
     "output_type": "stream",
     "text": [
      "crossbrian@jackson.com\n"
     ]
    }
   ],
   "source": [
    "print(email)"
   ]
  },
  {
   "cell_type": "code",
   "execution_count": 25,
   "metadata": {},
   "outputs": [],
   "source": [
    "text=fake_data.text()\n",
    "country=fake_data.country()"
   ]
  },
  {
   "cell_type": "code",
   "execution_count": 30,
   "metadata": {},
   "outputs": [
    {
     "name": "stdout",
     "output_type": "stream",
     "text": [
      "text is Different truth off writer tough. Station anyone south various often trial. Place policy want they guy wonder page.\n"
     ]
    }
   ],
   "source": [
    "print(f'text is {text}' )\n"
   ]
  },
  {
   "cell_type": "code",
   "execution_count": 31,
   "metadata": {},
   "outputs": [
    {
     "name": "stdout",
     "output_type": "stream",
     "text": [
      "country is Bulgaria\n"
     ]
    }
   ],
   "source": [
    "print(f'country is {country}' )"
   ]
  },
  {
   "cell_type": "code",
   "execution_count": 32,
   "metadata": {},
   "outputs": [],
   "source": [
    "# Create a list of fake jobs\n",
    "def create_job(n):\n",
    "    job = []\n",
    "    for _ in range(0, n):\n",
    "        job.append(fake_data.job())\n",
    "    return job"
   ]
  },
  {
   "cell_type": "code",
   "execution_count": 36,
   "metadata": {},
   "outputs": [],
   "source": [
    "occupation = create_job(20)"
   ]
  },
  {
   "cell_type": "code",
   "execution_count": 37,
   "metadata": {},
   "outputs": [
    {
     "name": "stdout",
     "output_type": "stream",
     "text": [
      "['Scientist, research (life sciences)', 'Therapist, speech and language', 'Press photographer', 'Diplomatic Services operational officer', 'Buyer, industrial', 'Fisheries officer', 'Psychologist, sport and exercise', 'Health promotion specialist', 'Public librarian', 'Tax adviser', 'Engineer, structural', 'Therapist, speech and language', 'Dispensing optician', 'Manufacturing systems engineer', 'Corporate investment banker', 'Editor, film/video', 'Psychiatrist', 'Designer, graphic', 'Sports therapist', 'Hydrologist']\n"
     ]
    }
   ],
   "source": [
    "print(occupation)"
   ]
  },
  {
   "cell_type": "markdown",
   "metadata": {},
   "source": [
    "If i want to create a data frame, I'll first list down the columns that I need and then generate fake data according to the category.\n",
    "Let's say I want a person's job, name, email and address in a data frame"
   ]
  },
  {
   "cell_type": "markdown",
   "metadata": {},
   "source": [
    "Numeric data is as generated below"
   ]
  },
  {
   "cell_type": "code",
   "execution_count": 48,
   "metadata": {},
   "outputs": [],
   "source": [
    "salary = np.random.randint(10000, 120000, size = 20, dtype = 'int')\n",
    "savings = np.random.randint(0, 50000, size = 20, dtype = 'int')\n",
    "rent = np.random.randint(500, 3001, size = 20, dtype = 'int')"
   ]
  },
  {
   "cell_type": "code",
   "execution_count": 49,
   "metadata": {},
   "outputs": [],
   "source": [
    "import numpy as np"
   ]
  },
  {
   "cell_type": "code",
   "execution_count": 50,
   "metadata": {},
   "outputs": [],
   "source": [
    "def create_job(n):\n",
    "    job = []\n",
    "    for _ in range(0, n):\n",
    "        job.append(fake_data.job())\n",
    "    return job"
   ]
  },
  {
   "cell_type": "code",
   "execution_count": 52,
   "metadata": {},
   "outputs": [],
   "source": [
    "personsJob= create_job(20)"
   ]
  },
  {
   "cell_type": "code",
   "execution_count": 61,
   "metadata": {},
   "outputs": [],
   "source": [
    "def create_name(n):\n",
    "    name = []\n",
    "    for _ in range(0, n):\n",
    "        name.append(fake_data.name())\n",
    "    return name"
   ]
  },
  {
   "cell_type": "code",
   "execution_count": 62,
   "metadata": {},
   "outputs": [],
   "source": [
    "personsName = create_name(20)"
   ]
  },
  {
   "cell_type": "code",
   "execution_count": 63,
   "metadata": {},
   "outputs": [],
   "source": [
    "def create_email(n):\n",
    "    email = []\n",
    "    for _ in range(0, n):\n",
    "        email.append(fake_data.email())\n",
    "    return email"
   ]
  },
  {
   "cell_type": "code",
   "execution_count": 64,
   "metadata": {},
   "outputs": [],
   "source": [
    "personEmail= create_email(20)"
   ]
  },
  {
   "cell_type": "code",
   "execution_count": 66,
   "metadata": {},
   "outputs": [],
   "source": [
    "def create_address(n):\n",
    "    address = []\n",
    "    for _ in range(0, n):\n",
    "        address.append(fake_data.address)\n",
    "    return address"
   ]
  },
  {
   "cell_type": "code",
   "execution_count": 67,
   "metadata": {},
   "outputs": [],
   "source": [
    "personAddress= create_address(20)"
   ]
  },
  {
   "cell_type": "code",
   "execution_count": 69,
   "metadata": {},
   "outputs": [],
   "source": [
    "import pandas as pd"
   ]
  },
  {
   "cell_type": "code",
   "execution_count": 73,
   "metadata": {},
   "outputs": [],
   "source": [
    "data = pd.DataFrame(list(zip(personsName, personEmail, personAddress, personsJob, salary, savings, rent)),\n",
    "                   columns = ['Name', 'Email', 'Address', 'Job', 'Salary', 'Savings','Rent'])"
   ]
  },
  {
   "cell_type": "markdown",
   "metadata": {},
   "source": [
    "Map the similar index of multiple containers so that they can be used just using as single entity.\n",
    "In thsi case its used to combine various lists as generated in the above function"
   ]
  },
  {
   "cell_type": "code",
   "execution_count": 74,
   "metadata": {},
   "outputs": [
    {
     "data": {
      "text/html": [
       "<div>\n",
       "<style scoped>\n",
       "    .dataframe tbody tr th:only-of-type {\n",
       "        vertical-align: middle;\n",
       "    }\n",
       "\n",
       "    .dataframe tbody tr th {\n",
       "        vertical-align: top;\n",
       "    }\n",
       "\n",
       "    .dataframe thead th {\n",
       "        text-align: right;\n",
       "    }\n",
       "</style>\n",
       "<table border=\"1\" class=\"dataframe\">\n",
       "  <thead>\n",
       "    <tr style=\"text-align: right;\">\n",
       "      <th></th>\n",
       "      <th>Name</th>\n",
       "      <th>Email</th>\n",
       "      <th>Address</th>\n",
       "      <th>Job</th>\n",
       "      <th>Salary</th>\n",
       "      <th>Savings</th>\n",
       "      <th>Rent</th>\n",
       "    </tr>\n",
       "  </thead>\n",
       "  <tbody>\n",
       "    <tr>\n",
       "      <th>0</th>\n",
       "      <td>Kaitlin Adams</td>\n",
       "      <td>jjenkins@lewis.com</td>\n",
       "      <td>&lt;bound method Provider.address of &lt;faker.provi...</td>\n",
       "      <td>Radio broadcast assistant</td>\n",
       "      <td>34190</td>\n",
       "      <td>6970</td>\n",
       "      <td>1046</td>\n",
       "    </tr>\n",
       "    <tr>\n",
       "      <th>1</th>\n",
       "      <td>Mary Glenn</td>\n",
       "      <td>nicholas85@mckee.com</td>\n",
       "      <td>&lt;bound method Provider.address of &lt;faker.provi...</td>\n",
       "      <td>Artist</td>\n",
       "      <td>22498</td>\n",
       "      <td>6351</td>\n",
       "      <td>2166</td>\n",
       "    </tr>\n",
       "    <tr>\n",
       "      <th>2</th>\n",
       "      <td>Sandra Jenkins</td>\n",
       "      <td>alikimberly@hotmail.com</td>\n",
       "      <td>&lt;bound method Provider.address of &lt;faker.provi...</td>\n",
       "      <td>Careers adviser</td>\n",
       "      <td>82416</td>\n",
       "      <td>12466</td>\n",
       "      <td>1492</td>\n",
       "    </tr>\n",
       "    <tr>\n",
       "      <th>3</th>\n",
       "      <td>Lauren Franklin</td>\n",
       "      <td>michaelwilliams@gmail.com</td>\n",
       "      <td>&lt;bound method Provider.address of &lt;faker.provi...</td>\n",
       "      <td>Production manager</td>\n",
       "      <td>40319</td>\n",
       "      <td>33805</td>\n",
       "      <td>2544</td>\n",
       "    </tr>\n",
       "    <tr>\n",
       "      <th>4</th>\n",
       "      <td>Stephanie Brooks</td>\n",
       "      <td>cuevasashley@gmail.com</td>\n",
       "      <td>&lt;bound method Provider.address of &lt;faker.provi...</td>\n",
       "      <td>Press photographer</td>\n",
       "      <td>51243</td>\n",
       "      <td>32125</td>\n",
       "      <td>651</td>\n",
       "    </tr>\n",
       "  </tbody>\n",
       "</table>\n",
       "</div>"
      ],
      "text/plain": [
       "               Name                      Email  \\\n",
       "0     Kaitlin Adams         jjenkins@lewis.com   \n",
       "1        Mary Glenn       nicholas85@mckee.com   \n",
       "2    Sandra Jenkins    alikimberly@hotmail.com   \n",
       "3   Lauren Franklin  michaelwilliams@gmail.com   \n",
       "4  Stephanie Brooks     cuevasashley@gmail.com   \n",
       "\n",
       "                                             Address  \\\n",
       "0  <bound method Provider.address of <faker.provi...   \n",
       "1  <bound method Provider.address of <faker.provi...   \n",
       "2  <bound method Provider.address of <faker.provi...   \n",
       "3  <bound method Provider.address of <faker.provi...   \n",
       "4  <bound method Provider.address of <faker.provi...   \n",
       "\n",
       "                         Job  Salary  Savings  Rent  \n",
       "0  Radio broadcast assistant   34190     6970  1046  \n",
       "1                     Artist   22498     6351  2166  \n",
       "2            Careers adviser   82416    12466  1492  \n",
       "3         Production manager   40319    33805  2544  \n",
       "4         Press photographer   51243    32125   651  "
      ]
     },
     "execution_count": 74,
     "metadata": {},
     "output_type": "execute_result"
    }
   ],
   "source": [
    "data.head()"
   ]
  },
  {
   "cell_type": "markdown",
   "metadata": {},
   "source": [
    "Thus we successfully created fake data in a few minutes"
   ]
  }
 ],
 "metadata": {
  "kernelspec": {
   "display_name": "Python 3",
   "language": "python",
   "name": "python3"
  },
  "language_info": {
   "codemirror_mode": {
    "name": "ipython",
    "version": 3
   },
   "file_extension": ".py",
   "mimetype": "text/x-python",
   "name": "python",
   "nbconvert_exporter": "python",
   "pygments_lexer": "ipython3",
   "version": "3.6.0"
  }
 },
 "nbformat": 4,
 "nbformat_minor": 2
}
